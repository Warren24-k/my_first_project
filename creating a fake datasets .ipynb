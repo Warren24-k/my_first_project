{
 "cells": [
  {
   "cell_type": "code",
   "execution_count": 9,
   "metadata": {},
   "outputs": [
    {
     "name": "stdout",
     "output_type": "stream",
     "text": [
      "my name is Wise\n"
     ]
    }
   ],
   "source": [
    "class Person():\n",
    "    def __init__(self,name):\n",
    "        self.name = name\n",
    "      \n",
    "        \n",
    "    def Me(self):\n",
    "        print(\"my name is\", self.name)\n",
    "\n",
    "        \n",
    "p = Person('Wise')\n",
    "p.Me()"
   ]
  },
  {
   "cell_type": "code",
   "execution_count": 2,
   "metadata": {},
   "outputs": [
    {
     "name": "stdout",
     "output_type": "stream",
     "text": [
      "Collecting faker\n",
      "  Downloading https://files.pythonhosted.org/packages/7b/ca/3e1a032ed78b9d4e76502056e2d977e1c5c45014c2db7850e5f6b7a63d75/Faker-18.4.0-py3-none-any.whl (1.7MB)\n",
      "Collecting typing-extensions>=3.10.0.1; python_version < \"3.8\" (from faker)\n",
      "  Downloading https://files.pythonhosted.org/packages/31/25/5abcd82372d3d4a3932e1fa8c3dbf9efac10cc7c0d16e78467460571b404/typing_extensions-4.5.0-py3-none-any.whl\n",
      "Requirement already satisfied: python-dateutil>=2.4 in c:\\users\\hp\\anaconda3\\lib\\site-packages (from faker) (2.8.0)\n",
      "Requirement already satisfied: six>=1.5 in c:\\users\\hp\\anaconda3\\lib\\site-packages (from python-dateutil>=2.4->faker) (1.12.0)\n",
      "Installing collected packages: typing-extensions, faker\n",
      "  Found existing installation: typing-extensions 3.10.0.0\n",
      "    Uninstalling typing-extensions-3.10.0.0:\n",
      "      Successfully uninstalled typing-extensions-3.10.0.0\n",
      "Successfully installed faker-18.4.0 typing-extensions-4.5.0\n",
      "Note: you may need to restart the kernel to use updated packages.\n"
     ]
    }
   ],
   "source": [
    "pip install faker"
   ]
  },
  {
   "cell_type": "code",
   "execution_count": 3,
   "metadata": {},
   "outputs": [
    {
     "name": "stdout",
     "output_type": "stream",
     "text": [
      "          Field 1          Field 2          Field 3          Field 4  \\\n",
      "0    Juan Bennett    Linda Woodard     Stacy Gordon      Dr. Kim Lee   \n",
      "1  Jessica Nguyen  Martha Williams     Louis Cooper        Joy Smith   \n",
      "2    Jacob Jordan     Johnny Young     Kevin Murphy    Holly Ramirez   \n",
      "3   Mario Stewart      Kevin Young      Lisa Rivera   Brianna Miller   \n",
      "4    Kylie Miller     Felicia Love  Cristian Santos  Gregory Skinner   \n",
      "\n",
      "            Field 5  \n",
      "0      Lucas Jensen  \n",
      "1  Michael Hamilton  \n",
      "2     Terry Simpson  \n",
      "3       Daniel Duke  \n",
      "4     Marcus Miller  \n"
     ]
    }
   ],
   "source": [
    "from faker import Faker\n",
    "import pandas as pd\n",
    "\n",
    "# Set the number of rows and columns in the dataset\n",
    "X = 100 # Replace with the desired number of rows\n",
    "y = 5 # Replace with the desired number of columns\n",
    "\n",
    "# Create a Faker object\n",
    "fake = Faker()\n",
    "\n",
    "# Create a list of field names\n",
    "field_names = ['Field ' + str(i) for i in range(1, y+1)]\n",
    "\n",
    "# Create a list of dictionaries representing the rows of the dataset\n",
    "rows = []\n",
    "for i in range(X):\n",
    "    row = {}\n",
    "    for field in field_names:\n",
    "        row[field] = fake.name()\n",
    "    rows.append(row)\n",
    "\n",
    "# Convert the list of dictionaries to a Pandas DataFrame\n",
    "df = pd.DataFrame(rows)\n",
    "\n",
    "# Print the first five rows of the dataset\n",
    "print(df.head())\n"
   ]
  },
  {
   "cell_type": "code",
   "execution_count": null,
   "metadata": {},
   "outputs": [],
   "source": []
  }
 ],
 "metadata": {
  "kernelspec": {
   "display_name": "Python 3",
   "language": "python",
   "name": "python3"
  },
  "language_info": {
   "codemirror_mode": {
    "name": "ipython",
    "version": 3
   },
   "file_extension": ".py",
   "mimetype": "text/x-python",
   "name": "python",
   "nbconvert_exporter": "python",
   "pygments_lexer": "ipython3",
   "version": "3.7.4"
  }
 },
 "nbformat": 4,
 "nbformat_minor": 2
}
